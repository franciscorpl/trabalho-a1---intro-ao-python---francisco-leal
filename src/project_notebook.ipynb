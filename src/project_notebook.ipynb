{
 "cells": [
  {
   "cell_type": "code",
   "execution_count": null,
   "metadata": {},
   "outputs": [],
   "source": [
    "!pip install -r requirements"
   ]
  },
  {
   "cell_type": "code",
   "execution_count": 1,
   "metadata": {},
   "outputs": [],
   "source": [
    "from matplotlib import pyplot as plt\n",
    "\n",
    "import pandas as pd\n",
    "import numpy as np\n",
    "import seaborn as sns\n",
    "import os, sys"
   ]
  },
  {
   "cell_type": "code",
   "execution_count": 2,
   "metadata": {},
   "outputs": [
    {
     "data": {
      "text/html": [
       "<div>\n",
       "<style scoped>\n",
       "    .dataframe tbody tr th:only-of-type {\n",
       "        vertical-align: middle;\n",
       "    }\n",
       "\n",
       "    .dataframe tbody tr th {\n",
       "        vertical-align: top;\n",
       "    }\n",
       "\n",
       "    .dataframe thead th {\n",
       "        text-align: right;\n",
       "    }\n",
       "</style>\n",
       "<table border=\"1\" class=\"dataframe\">\n",
       "  <thead>\n",
       "    <tr style=\"text-align: right;\">\n",
       "      <th></th>\n",
       "      <th>Countries</th>\n",
       "      <th>Happiness index, 2022</th>\n",
       "      <th>Global rank</th>\n",
       "      <th>Available data</th>\n",
       "    </tr>\n",
       "  </thead>\n",
       "  <tbody>\n",
       "    <tr>\n",
       "      <th>0</th>\n",
       "      <td>Finland</td>\n",
       "      <td>7.80</td>\n",
       "      <td>1</td>\n",
       "      <td>2013 - 2022</td>\n",
       "    </tr>\n",
       "    <tr>\n",
       "      <th>1</th>\n",
       "      <td>Denmark</td>\n",
       "      <td>7.59</td>\n",
       "      <td>2</td>\n",
       "      <td>2013 - 2022</td>\n",
       "    </tr>\n",
       "    <tr>\n",
       "      <th>2</th>\n",
       "      <td>Iceland</td>\n",
       "      <td>7.53</td>\n",
       "      <td>3</td>\n",
       "      <td>2013 - 2022</td>\n",
       "    </tr>\n",
       "    <tr>\n",
       "      <th>3</th>\n",
       "      <td>Israel</td>\n",
       "      <td>7.47</td>\n",
       "      <td>4</td>\n",
       "      <td>2013 - 2022</td>\n",
       "    </tr>\n",
       "    <tr>\n",
       "      <th>4</th>\n",
       "      <td>Netherlands</td>\n",
       "      <td>7.40</td>\n",
       "      <td>5</td>\n",
       "      <td>2013 - 2022</td>\n",
       "    </tr>\n",
       "    <tr>\n",
       "      <th>...</th>\n",
       "      <td>...</td>\n",
       "      <td>...</td>\n",
       "      <td>...</td>\n",
       "      <td>...</td>\n",
       "    </tr>\n",
       "    <tr>\n",
       "      <th>129</th>\n",
       "      <td>DR Congo</td>\n",
       "      <td>3.21</td>\n",
       "      <td>130</td>\n",
       "      <td>2017 - 2022</td>\n",
       "    </tr>\n",
       "    <tr>\n",
       "      <th>130</th>\n",
       "      <td>Zimbabwe</td>\n",
       "      <td>3.20</td>\n",
       "      <td>131</td>\n",
       "      <td>2013 - 2022</td>\n",
       "    </tr>\n",
       "    <tr>\n",
       "      <th>131</th>\n",
       "      <td>Sierra Leone</td>\n",
       "      <td>3.14</td>\n",
       "      <td>132</td>\n",
       "      <td>2013 - 2022</td>\n",
       "    </tr>\n",
       "    <tr>\n",
       "      <th>132</th>\n",
       "      <td>Lebanon</td>\n",
       "      <td>2.39</td>\n",
       "      <td>133</td>\n",
       "      <td>2013 - 2022</td>\n",
       "    </tr>\n",
       "    <tr>\n",
       "      <th>133</th>\n",
       "      <td>Afghanistan</td>\n",
       "      <td>1.86</td>\n",
       "      <td>134</td>\n",
       "      <td>2013 - 2022</td>\n",
       "    </tr>\n",
       "  </tbody>\n",
       "</table>\n",
       "<p>134 rows × 4 columns</p>\n",
       "</div>"
      ],
      "text/plain": [
       "        Countries  Happiness index, 2022  Global rank Available data\n",
       "0         Finland                   7.80            1    2013 - 2022\n",
       "1         Denmark                   7.59            2    2013 - 2022\n",
       "2         Iceland                   7.53            3    2013 - 2022\n",
       "3          Israel                   7.47            4    2013 - 2022\n",
       "4     Netherlands                   7.40            5    2013 - 2022\n",
       "..            ...                    ...          ...            ...\n",
       "129      DR Congo                   3.21          130    2017 - 2022\n",
       "130      Zimbabwe                   3.20          131    2013 - 2022\n",
       "131  Sierra Leone                   3.14          132    2013 - 2022\n",
       "132       Lebanon                   2.39          133    2013 - 2022\n",
       "133   Afghanistan                   1.86          134    2013 - 2022\n",
       "\n",
       "[134 rows x 4 columns]"
      ]
     },
     "metadata": {},
     "output_type": "display_data"
    }
   ],
   "source": [
    "path = \"../data/happiness.csv\"\n",
    "df = pd.read_csv(path)\n",
    "\n",
    "display(df)"
   ]
  },
  {
   "cell_type": "markdown",
   "metadata": {},
   "source": [
    "0 - Manipulação e Tratamento de dados"
   ]
  },
  {
   "cell_type": "code",
   "execution_count": 3,
   "metadata": {},
   "outputs": [
    {
     "name": "stdout",
     "output_type": "stream",
     "text": [
      "<class 'pandas.core.frame.DataFrame'>\n",
      "RangeIndex: 134 entries, 0 to 133\n",
      "Data columns (total 4 columns):\n",
      " #   Column                 Non-Null Count  Dtype  \n",
      "---  ------                 --------------  -----  \n",
      " 0   Countries              134 non-null    object \n",
      " 1   Happiness index, 2022  134 non-null    float64\n",
      " 2   Global rank            134 non-null    int64  \n",
      " 3   Available data         134 non-null    object \n",
      "dtypes: float64(1), int64(1), object(2)\n",
      "memory usage: 4.3+ KB\n"
     ]
    }
   ],
   "source": [
    "df.info()"
   ]
  },
  {
   "cell_type": "code",
   "execution_count": 32,
   "metadata": {},
   "outputs": [
    {
     "data": {
      "text/html": [
       "<div>\n",
       "<style scoped>\n",
       "    .dataframe tbody tr th:only-of-type {\n",
       "        vertical-align: middle;\n",
       "    }\n",
       "\n",
       "    .dataframe tbody tr th {\n",
       "        vertical-align: top;\n",
       "    }\n",
       "\n",
       "    .dataframe thead th {\n",
       "        text-align: right;\n",
       "    }\n",
       "</style>\n",
       "<table border=\"1\" class=\"dataframe\">\n",
       "  <thead>\n",
       "    <tr style=\"text-align: right;\">\n",
       "      <th></th>\n",
       "      <th>country</th>\n",
       "      <th>happiness</th>\n",
       "      <th>ranking</th>\n",
       "      <th>date_of_data</th>\n",
       "    </tr>\n",
       "  </thead>\n",
       "  <tbody>\n",
       "    <tr>\n",
       "      <th>0</th>\n",
       "      <td>Finland</td>\n",
       "      <td>7.80</td>\n",
       "      <td>1</td>\n",
       "      <td>2013 - 2022</td>\n",
       "    </tr>\n",
       "    <tr>\n",
       "      <th>1</th>\n",
       "      <td>Denmark</td>\n",
       "      <td>7.59</td>\n",
       "      <td>2</td>\n",
       "      <td>2013 - 2022</td>\n",
       "    </tr>\n",
       "    <tr>\n",
       "      <th>2</th>\n",
       "      <td>Iceland</td>\n",
       "      <td>7.53</td>\n",
       "      <td>3</td>\n",
       "      <td>2013 - 2022</td>\n",
       "    </tr>\n",
       "    <tr>\n",
       "      <th>3</th>\n",
       "      <td>Israel</td>\n",
       "      <td>7.47</td>\n",
       "      <td>4</td>\n",
       "      <td>2013 - 2022</td>\n",
       "    </tr>\n",
       "    <tr>\n",
       "      <th>4</th>\n",
       "      <td>Netherlands</td>\n",
       "      <td>7.40</td>\n",
       "      <td>5</td>\n",
       "      <td>2013 - 2022</td>\n",
       "    </tr>\n",
       "    <tr>\n",
       "      <th>...</th>\n",
       "      <td>...</td>\n",
       "      <td>...</td>\n",
       "      <td>...</td>\n",
       "      <td>...</td>\n",
       "    </tr>\n",
       "    <tr>\n",
       "      <th>129</th>\n",
       "      <td>DR Congo</td>\n",
       "      <td>3.21</td>\n",
       "      <td>130</td>\n",
       "      <td>2017 - 2022</td>\n",
       "    </tr>\n",
       "    <tr>\n",
       "      <th>130</th>\n",
       "      <td>Zimbabwe</td>\n",
       "      <td>3.20</td>\n",
       "      <td>131</td>\n",
       "      <td>2013 - 2022</td>\n",
       "    </tr>\n",
       "    <tr>\n",
       "      <th>131</th>\n",
       "      <td>Sierra Leone</td>\n",
       "      <td>3.14</td>\n",
       "      <td>132</td>\n",
       "      <td>2013 - 2022</td>\n",
       "    </tr>\n",
       "    <tr>\n",
       "      <th>132</th>\n",
       "      <td>Lebanon</td>\n",
       "      <td>2.39</td>\n",
       "      <td>133</td>\n",
       "      <td>2013 - 2022</td>\n",
       "    </tr>\n",
       "    <tr>\n",
       "      <th>133</th>\n",
       "      <td>Afghanistan</td>\n",
       "      <td>1.86</td>\n",
       "      <td>134</td>\n",
       "      <td>2013 - 2022</td>\n",
       "    </tr>\n",
       "  </tbody>\n",
       "</table>\n",
       "<p>134 rows × 4 columns</p>\n",
       "</div>"
      ],
      "text/plain": [
       "          country  happiness  ranking date_of_data\n",
       "0         Finland       7.80        1  2013 - 2022\n",
       "1         Denmark       7.59        2  2013 - 2022\n",
       "2         Iceland       7.53        3  2013 - 2022\n",
       "3          Israel       7.47        4  2013 - 2022\n",
       "4     Netherlands       7.40        5  2013 - 2022\n",
       "..            ...        ...      ...          ...\n",
       "129      DR Congo       3.21      130  2017 - 2022\n",
       "130      Zimbabwe       3.20      131  2013 - 2022\n",
       "131  Sierra Leone       3.14      132  2013 - 2022\n",
       "132       Lebanon       2.39      133  2013 - 2022\n",
       "133   Afghanistan       1.86      134  2013 - 2022\n",
       "\n",
       "[134 rows x 4 columns]"
      ]
     },
     "metadata": {},
     "output_type": "display_data"
    }
   ],
   "source": [
    "# Renomeando as colunas:\n",
    "df = df.rename(columns={\"Countries\": \"country\", \"Happiness index, 2022\": \"happiness\", \"Global rank\": \"ranking\", \"Available data\": \"date_of_data\"})\n",
    "\n",
    "# Garantindo a ordem do ranking de felicidade dos países:\n",
    "df = df.sort_values(by=\"happiness\", ascending=False)\n",
    "display(df)"
   ]
  },
  {
   "cell_type": "code",
   "execution_count": 10,
   "metadata": {},
   "outputs": [
    {
     "data": {
      "text/plain": [
       "str"
      ]
     },
     "execution_count": 10,
     "metadata": {},
     "output_type": "execute_result"
    }
   ],
   "source": [
    "# Trocando colunas com object para String:\n",
    "df[\"country\"] = df[\"country\"].astype(str)\n",
    "type(df.country[0])"
   ]
  },
  {
   "cell_type": "code",
   "execution_count": 12,
   "metadata": {},
   "outputs": [
    {
     "name": "stdout",
     "output_type": "stream",
     "text": [
      "Não existem dados nulos no conjunto de dados\n",
      "\n",
      "Total de dados nulos por atributo:\n",
      "country         0\n",
      "happiness       0\n",
      "ranking         0\n",
      "date_of_data    0\n",
      "dtype: int64\n"
     ]
    }
   ],
   "source": [
    "# Verifica se existem dados nulos (NaN):\n",
    "if df.isnull().values.any():\n",
    "    print(\"Existem dados nulos no conjunto de dados\")\n",
    "else:\n",
    "    print(\"Não existem dados nulos no conjunto de dados\")\n",
    "\n",
    "sum_of_nulls = df.isnull().sum()\n",
    "print(\"\\nTotal de dados nulos por atributo:\")\n",
    "print(sum_of_nulls)"
   ]
  },
  {
   "cell_type": "code",
   "execution_count": 33,
   "metadata": {},
   "outputs": [
    {
     "data": {
      "text/plain": [
       "array(['2013 - 2022', '2017 - 2022', '2016 - 2022', '2015 - 2022',\n",
       "       '2019 - 2022'], dtype=object)"
      ]
     },
     "execution_count": 33,
     "metadata": {},
     "output_type": "execute_result"
    }
   ],
   "source": [
    "# Verificando quais períodos de data disponível:\n",
    "df[\"date_of_data\"].unique()"
   ]
  },
  {
   "cell_type": "markdown",
   "metadata": {},
   "source": [
    "1 - Estística Descritiva"
   ]
  },
  {
   "cell_type": "code",
   "execution_count": null,
   "metadata": {},
   "outputs": [],
   "source": [
    "# Média, moda e mediana do Índice de felicidade de 2022 (Happiness Index, 2022:\n",
    "mean = df[\"Happiness index, 2022\"].mean()\n",
    "median = df[\"Happiness index, 2022\"].median()\n",
    "mode = max(set(list(df[\"Happiness index, 2022\"].values)), key=list(df[\"Happiness index, 2022\"].values).count)\n",
    "\n",
    "print(\"A média do índice de felicidade é: %.2f\" % mean)\n",
    "print(\"A mediana do índice de felicidade é: %.2f\" % median)\n",
    "print(\"A moda do índice de felicidade é: %.2f\" % mode)"
   ]
  },
  {
   "cell_type": "code",
   "execution_count": 19,
   "metadata": {},
   "outputs": [
    {
     "data": {
      "text/plain": [
       "<Axes: title={'center': 'Happiness Distribution'}>"
      ]
     },
     "execution_count": 19,
     "metadata": {},
     "output_type": "execute_result"
    },
    {
     "data": {
      "image/png": "[encoded data removed]",
      "text/plain": [
       "<Figure size 640x480 with 1 Axes>"
      ]
     },
     "metadata": {},
     "output_type": "display_data"
    }
   ],
   "source": [
    "# Distribuição do Índice de Felicidade:\n",
    "plt.title(\"Happiness Distribution\")\n",
    "df[\"happiness\"].hist()"
   ]
  },
  {
   "cell_type": "code",
   "execution_count": 27,
   "metadata": {},
   "outputs": [
    {
     "data": {
      "text/plain": [
       "country\n",
       "Afghanistan    [1.86]\n",
       "Albania        [5.28]\n",
       "Algeria        [5.33]\n",
       "Argentina      [6.02]\n",
       "Armenia        [5.34]\n",
       "                ...  \n",
       "Uzbekistan     [6.01]\n",
       "Venezuela      [5.21]\n",
       "Vietnam        [5.76]\n",
       "Zambia         [3.98]\n",
       "Zimbabwe        [3.2]\n",
       "Name: happiness, Length: 134, dtype: object"
      ]
     },
     "metadata": {},
     "output_type": "display_data"
    }
   ],
   "source": [
    "group = df.groupby([\"country\"])[\"happiness\"].unique()\n",
    "display(group)"
   ]
  },
  {
   "cell_type": "code",
   "execution_count": null,
   "metadata": {},
   "outputs": [],
   "source": []
  }
 ],
 "metadata": {
  "kernelspec": {
   "display_name": "venv",
   "language": "python",
   "name": "python3"
  },
  "language_info": {
   "codemirror_mode": {
    "name": "ipython",
    "version": 3
   },
   "file_extension": ".py",
   "mimetype": "text/x-python",
   "name": "python",
   "nbconvert_exporter": "python",
   "pygments_lexer": "ipython3",
   "version": "3.11.3"
  },
  "orig_nbformat": 4
 },
 "nbformat": 4,
 "nbformat_minor": 2
}
