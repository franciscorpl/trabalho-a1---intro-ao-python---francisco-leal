{
 "cells": [
  {
   "cell_type": "code",
   "execution_count": null,
   "metadata": {},
   "outputs": [],
   "source": [
    "!pip install -r requirements.txt"
   ]
  },
  {
   "cell_type": "code",
   "execution_count": null,
   "metadata": {},
   "outputs": [],
   "source": [
    "from matplotlib import pyplot as plt\n",
    "\n",
    "import pandas as pd\n",
    "import numpy as np\n",
    "import seaborn as sns\n",
    "import os, sys"
   ]
  },
  {
   "cell_type": "markdown",
   "metadata": {},
   "source": [
    "##### Importe dos dados"
   ]
  },
  {
   "cell_type": "code",
   "execution_count": null,
   "metadata": {},
   "outputs": [],
   "source": [
    "# Importando dataset com ranking e índice de felicidade:\n",
    "happines_dataset_path = \"../data/happiness.csv\"\n",
    "happiness_df = pd.read_csv(happines_dataset_path)\n",
    "happiness_df.info()"
   ]
  },
  {
   "cell_type": "code",
   "execution_count": null,
   "metadata": {},
   "outputs": [],
   "source": [
    "# Importando dataset com taxa de homicidios:\n",
    "homicide_rate_dataset_path = \"../data/countries-by-intentional-homicide-rate.csv\"\n",
    "homicide_df = pd.read_csv(homicide_rate_dataset_path)\n",
    "homicide_df.info()"
   ]
  },
  {
   "cell_type": "markdown",
   "metadata": {},
   "source": [
    "##### 1 - Manipulação e Tratamento de dados"
   ]
  },
  {
   "cell_type": "code",
   "execution_count": null,
   "metadata": {},
   "outputs": [],
   "source": [
    "# Renomeando as colunas:\n",
    "happiness_df = happiness_df.rename(columns={\"Countries\": \"country\", \"Happiness index, 2022\": \"happiness\", \"Global rank\": \"ranking\", \"Available data\": \"date_of_data\"})\n",
    "homicide_df = homicide_df[[\"Location\",\"Rate\",\"Count\", \"Year\"]].rename(columns={\"Location\": \"country\", \"Rate\": \"rate\", \"Count\":\"count\", \"Year\": \"date_of_data\"})\n",
    "\n",
    "# Garantindo a ordem do ranking de felicidade dos países no dataset de felicidade:\n",
    "happiness_df = happiness_df.sort_values(by=\"happiness\", ascending=False)\n",
    "print(\"Dataset de Índice e Ranking de Felicidade\")\n",
    "display(happiness_df)\n",
    "\n",
    "# Ordenando países por odem decrescente da taxa de homícidos:\n",
    "homicide_df = homicide_df.sort_values(by=\"rate\", ascending=True)\n",
    "print(\"Dataset de Taxa de Homícidios\")\n",
    "display(homicide_df)"
   ]
  },
  {
   "cell_type": "code",
   "execution_count": null,
   "metadata": {},
   "outputs": [],
   "source": [
    "# Trocando colunas com object para String:\n",
    "happiness_df[\"country\"] = happiness_df[\"country\"].astype(str)\n",
    "homicide_df[\"country\"] = homicide_df[\"country\"].astype(str)"
   ]
  },
  {
   "cell_type": "code",
   "execution_count": null,
   "metadata": {},
   "outputs": [],
   "source": [
    "# Verifica se existem dados nulos (NaN) no dataset de felicidade:\n",
    "if happiness_df.isnull().values.any():\n",
    "    print(\"Existem dados nulos no conjunto de dados\")\n",
    "else:\n",
    "    print(\"Não existem dados nulos no conjunto de dados\")\n",
    "\n",
    "sum_of_nulls = happiness_df.isnull().sum()\n",
    "print(\"\\nTotal de dados nulos por atributo:\")\n",
    "print(sum_of_nulls)"
   ]
  },
  {
   "cell_type": "code",
   "execution_count": null,
   "metadata": {},
   "outputs": [],
   "source": [
    "# Verifica se existem dados nulos (NaN) no dataset de homicídios:\n",
    "if homicide_df.isnull().values.any():\n",
    "    print(\"Existem dados nulos no conjunto de dados\")\n",
    "else:\n",
    "    print(\"Não existem dados nulos no conjunto de dados\")\n",
    "\n",
    "sum_of_nulls = homicide_df.isnull().sum()\n",
    "print(\"\\nTotal de dados nulos por atributo:\")\n",
    "print(sum_of_nulls)"
   ]
  },
  {
   "cell_type": "code",
   "execution_count": null,
   "metadata": {},
   "outputs": [],
   "source": [
    "# Verificando quais períodos de data disponível no dataset de felicidade:\n",
    "print(\"Períodos dos dados disponíveis no dataset de felicidade: \", happiness_df[\"date_of_data\"].unique())\n",
    "\n",
    "# Verificando quais períodos de data disponível no dataset de homicídio:\n",
    "print(\"\\nPeríodos dos dados disponíveis no dataset de homicídio: \", homicide_df[\"date_of_data\"].unique())"
   ]
  },
  {
   "cell_type": "markdown",
   "metadata": {},
   "source": [
    "##### 2 - Estística Descritiva"
   ]
  },
  {
   "cell_type": "code",
   "execution_count": null,
   "metadata": {},
   "outputs": [],
   "source": [
    "# Total de países na pesquisa:\n",
    "print(\"Existem %d países no dataset de felicidade. \" % len(happiness_df[\"country\"]))\n",
    "print(\"Existem %d países no dataset de homicídios. \" % len(homicide_df[\"country\"]))"
   ]
  },
  {
   "cell_type": "code",
   "execution_count": null,
   "metadata": {},
   "outputs": [],
   "source": [
    "# Média, moda e mediana do Índice de felicidade de 2022 (Happiness Index, 2022:\n",
    "mean = happiness_df[\"happiness\"].mean()\n",
    "median = happiness_df[\"happiness\"].median()\n",
    "mode = max(set(list(happiness_df[\"happiness\"].values)), key=list(happiness_df[\"happiness\"].values).count)\n",
    "\n",
    "print(\"A média do índice de felicidade é: %.2f\" % mean)\n",
    "print(\"A mediana do índice de felicidade é: %.2f\" % median)\n",
    "print(\"A moda do índice de felicidade é: %.2f\" % mode)"
   ]
  },
  {
   "cell_type": "code",
   "execution_count": null,
   "metadata": {},
   "outputs": [],
   "source": [
    "# Distribuição do Índice de Felicidade:\n",
    "plt.title(\"Distribuição do Índice de Felicidade\")\n",
    "happiness_df[\"happiness\"].hist()"
   ]
  },
  {
   "cell_type": "code",
   "execution_count": null,
   "metadata": {},
   "outputs": [],
   "source": [
    "# Média, moda e mediana da taxa de homícidios:\n",
    "mean = homicide_df[\"rate\"].mean()\n",
    "median = homicide_df[\"rate\"].median()\n",
    "mode = max(set(list(homicide_df[\"rate\"].values)), key=list(homicide_df[\"rate\"].values).count)\n",
    "\n",
    "print(\"A média da taxa de homicídios é: %.2f\" % mean)\n",
    "print(\"A mediana da taxa de homicídios é: %.2f\" % median)\n",
    "print(\"A moda da taxa de homicídios é: %.2f\" % mode)"
   ]
  },
  {
   "cell_type": "code",
   "execution_count": null,
   "metadata": {},
   "outputs": [],
   "source": [
    "# Distribuição do Índice de Felicidade:\n",
    "plt.title(\"Distribuição da Taxa de Homicídio\")\n",
    "homicide_df[\"rate\"].hist()"
   ]
  },
  {
   "cell_type": "markdown",
   "metadata": {},
   "source": [
    "- Pode-se perceber que existe uma maior quantidade de países com índice de felicidade alta (acima de 5), do que baixo. A disrirbuição não é Normal, pois tem um viés à esquerda."
   ]
  },
  {
   "cell_type": "markdown",
   "metadata": {},
   "source": [
    "- Percebe-se que no conjunto de dados de homicídios, a maior parte dos países possuem uma taxa de homicídio entre 0 a 20. Poucos países têm taxas muito altas, acima de 30."
   ]
  },
  {
   "cell_type": "markdown",
   "metadata": {},
   "source": [
    "##### 3 - Utilizando Groupby & Join"
   ]
  },
  {
   "cell_type": "code",
   "execution_count": null,
   "metadata": {},
   "outputs": [],
   "source": [
    "group = happiness_df.groupby([\"date_of_data\"]).count()\n",
    "display(group)"
   ]
  },
  {
   "cell_type": "markdown",
   "metadata": {},
   "source": [
    "- Dos 134 países, 126 tiveram os dados coletados de 2013 a 2022, ou seja, cerca de 94% da amostra possui dados coletados durante o maior período de tempo."
   ]
  },
  {
   "cell_type": "code",
   "execution_count": null,
   "metadata": {},
   "outputs": [],
   "source": [
    "# Verificando quais países está presente nos dois datasets:\n",
    "country_happ = list(happiness_df.country)\n",
    "country_homi = list(homicide_df.country)\n",
    "\n",
    "equal_countries = []\n",
    "\n",
    "for c_01 in country_homi:\n",
    "    for c_02 in country_happ:\n",
    "        if c_01 == c_02:\n",
    "            equal_countries.append(c_01)\n",
    "print(len(equal_countries))"
   ]
  },
  {
   "cell_type": "markdown",
   "metadata": {},
   "source": [
    "- Apenas 113 países, dos 134 no dataset de felicidade, estão também presentes no dataset de homícidios. Portanto, o join será feito apenas com estes 113 países."
   ]
  },
  {
   "cell_type": "code",
   "execution_count": null,
   "metadata": {},
   "outputs": [],
   "source": [
    "# Utilizando Join para realizar o cruzamento entre os datasets de felicidade e homicídios, sendo o menor (de felicidade) a base:\n",
    "joined_df = happiness_df.set_index(\"country\").join(homicide_df.set_index(\"country\"), how=\"left\", lsuffix='_happiness', rsuffix='_homicide')\n",
    "display(joined_df)"
   ]
  },
  {
   "cell_type": "markdown",
   "metadata": {},
   "source": [
    "- Como verificado anteriormente, apenas 113 paíes do dataset de felicidade também estão no dataset de homicídios. Desta forma, as linhas dos países que não estão em homicídios, ficaram com os valores NaN (Not a Number)."
   ]
  },
  {
   "cell_type": "code",
   "execution_count": null,
   "metadata": {},
   "outputs": [],
   "source": [
    "# Removendo países que ficaram com dados faltantes:\n",
    "joined_df = joined_df.dropna()\n",
    "display(joined_df)"
   ]
  },
  {
   "cell_type": "code",
   "execution_count": null,
   "metadata": {},
   "outputs": [],
   "source": []
  }
 ],
 "metadata": {
  "kernelspec": {
   "display_name": "venv",
   "language": "python",
   "name": "python3"
  },
  "language_info": {
   "codemirror_mode": {
    "name": "ipython",
    "version": 3
   },
   "file_extension": ".py",
   "mimetype": "text/x-python",
   "name": "python",
   "nbconvert_exporter": "python",
   "pygments_lexer": "ipython3",
   "version": "3.11.3"
  },
  "orig_nbformat": 4
 },
 "nbformat": 4,
 "nbformat_minor": 2
}
