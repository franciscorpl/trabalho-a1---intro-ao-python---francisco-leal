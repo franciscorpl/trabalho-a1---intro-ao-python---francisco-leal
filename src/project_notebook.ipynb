{
 "cells": [
  {
   "cell_type": "code",
   "execution_count": 26,
   "metadata": {},
   "outputs": [
    {
     "name": "stdout",
     "output_type": "stream",
     "text": [
      "Requirement already satisfied: anyio==4.0.0 in d:\\documentos_d\\projeto_francisco\\projeto\\trabalho-a1---intro-ao-python---francisco-leal\\venv\\lib\\site-packages (from -r requirements.txt (line 1)) (4.0.0)\n",
      "Requirement already satisfied: argon2-cffi==23.1.0 in d:\\documentos_d\\projeto_francisco\\projeto\\trabalho-a1---intro-ao-python---francisco-leal\\venv\\lib\\site-packages (from -r requirements.txt (line 2)) (23.1.0)\n",
      "Requirement already satisfied: argon2-cffi-bindings==21.2.0 in d:\\documentos_d\\projeto_francisco\\projeto\\trabalho-a1---intro-ao-python---francisco-leal\\venv\\lib\\site-packages (from -r requirements.txt (line 3)) (21.2.0)\n",
      "Requirement already satisfied: arrow==1.2.3 in d:\\documentos_d\\projeto_francisco\\projeto\\trabalho-a1---intro-ao-python---francisco-leal\\venv\\lib\\site-packages (from -r requirements.txt (line 4)) (1.2.3)\n",
      "Requirement already satisfied: asttokens==2.4.0 in d:\\documentos_d\\projeto_francisco\\projeto\\trabalho-a1---intro-ao-python---francisco-leal\\venv\\lib\\site-packages (from -r requirements.txt (line 5)) (2.4.0)\n",
      "Requirement already satisfied: async-lru==2.0.4 in d:\\documentos_d\\projeto_francisco\\projeto\\trabalho-a1---intro-ao-python---francisco-leal\\venv\\lib\\site-packages (from -r requirements.txt (line 6)) (2.0.4)\n",
      "Requirement already satisfied: attrs==23.1.0 in d:\\documentos_d\\projeto_francisco\\projeto\\trabalho-a1---intro-ao-python---francisco-leal\\venv\\lib\\site-packages (from -r requirements.txt (line 7)) (23.1.0)\n",
      "Requirement already satisfied: Babel==2.12.1 in d:\\documentos_d\\projeto_francisco\\projeto\\trabalho-a1---intro-ao-python---francisco-leal\\venv\\lib\\site-packages (from -r requirements.txt (line 8)) (2.12.1)\n",
      "Requirement already satisfied: backcall==0.2.0 in d:\\documentos_d\\projeto_francisco\\projeto\\trabalho-a1---intro-ao-python---francisco-leal\\venv\\lib\\site-packages (from -r requirements.txt (line 9)) (0.2.0)\n",
      "Requirement already satisfied: beautifulsoup4==4.12.2 in d:\\documentos_d\\projeto_francisco\\projeto\\trabalho-a1---intro-ao-python---francisco-leal\\venv\\lib\\site-packages (from -r requirements.txt (line 10)) (4.12.2)\n",
      "Requirement already satisfied: bleach==6.0.0 in d:\\documentos_d\\projeto_francisco\\projeto\\trabalho-a1---intro-ao-python---francisco-leal\\venv\\lib\\site-packages (from -r requirements.txt (line 11)) (6.0.0)\n",
      "Requirement already satisfied: certifi==2023.7.22 in d:\\documentos_d\\projeto_francisco\\projeto\\trabalho-a1---intro-ao-python---francisco-leal\\venv\\lib\\site-packages (from -r requirements.txt (line 12)) (2023.7.22)\n",
      "Requirement already satisfied: cffi==1.15.1 in d:\\documentos_d\\projeto_francisco\\projeto\\trabalho-a1---intro-ao-python---francisco-leal\\venv\\lib\\site-packages (from -r requirements.txt (line 13)) (1.15.1)\n",
      "Requirement already satisfied: charset-normalizer==3.2.0 in d:\\documentos_d\\projeto_francisco\\projeto\\trabalho-a1---intro-ao-python---francisco-leal\\venv\\lib\\site-packages (from -r requirements.txt (line 14)) (3.2.0)\n",
      "Requirement already satisfied: colorama==0.4.6 in d:\\documentos_d\\projeto_francisco\\projeto\\trabalho-a1---intro-ao-python---francisco-leal\\venv\\lib\\site-packages (from -r requirements.txt (line 15)) (0.4.6)\n",
      "Requirement already satisfied: comm==0.1.4 in d:\\documentos_d\\projeto_francisco\\projeto\\trabalho-a1---intro-ao-python---francisco-leal\\venv\\lib\\site-packages (from -r requirements.txt (line 16)) (0.1.4)\n",
      "Requirement already satisfied: contourpy==1.1.1 in d:\\documentos_d\\projeto_francisco\\projeto\\trabalho-a1---intro-ao-python---francisco-leal\\venv\\lib\\site-packages (from -r requirements.txt (line 17)) (1.1.1)\n",
      "Requirement already satisfied: cycler==0.11.0 in d:\\documentos_d\\projeto_francisco\\projeto\\trabalho-a1---intro-ao-python---francisco-leal\\venv\\lib\\site-packages (from -r requirements.txt (line 18)) (0.11.0)\n",
      "Requirement already satisfied: debugpy==1.8.0 in d:\\documentos_d\\projeto_francisco\\projeto\\trabalho-a1---intro-ao-python---francisco-leal\\venv\\lib\\site-packages (from -r requirements.txt (line 19)) (1.8.0)\n",
      "Requirement already satisfied: decorator==5.1.1 in d:\\documentos_d\\projeto_francisco\\projeto\\trabalho-a1---intro-ao-python---francisco-leal\\venv\\lib\\site-packages (from -r requirements.txt (line 20)) (5.1.1)\n",
      "Requirement already satisfied: defusedxml==0.7.1 in d:\\documentos_d\\projeto_francisco\\projeto\\trabalho-a1---intro-ao-python---francisco-leal\\venv\\lib\\site-packages (from -r requirements.txt (line 21)) (0.7.1)\n",
      "Requirement already satisfied: executing==1.2.0 in d:\\documentos_d\\projeto_francisco\\projeto\\trabalho-a1---intro-ao-python---francisco-leal\\venv\\lib\\site-packages (from -r requirements.txt (line 22)) (1.2.0)\n",
      "Requirement already satisfied: fastjsonschema==2.18.0 in d:\\documentos_d\\projeto_francisco\\projeto\\trabalho-a1---intro-ao-python---francisco-leal\\venv\\lib\\site-packages (from -r requirements.txt (line 23)) (2.18.0)\n",
      "Requirement already satisfied: fonttools==4.42.1 in d:\\documentos_d\\projeto_francisco\\projeto\\trabalho-a1---intro-ao-python---francisco-leal\\venv\\lib\\site-packages (from -r requirements.txt (line 24)) (4.42.1)\n",
      "Requirement already satisfied: fqdn==1.5.1 in d:\\documentos_d\\projeto_francisco\\projeto\\trabalho-a1---intro-ao-python---francisco-leal\\venv\\lib\\site-packages (from -r requirements.txt (line 25)) (1.5.1)\n",
      "Requirement already satisfied: idna==3.4 in d:\\documentos_d\\projeto_francisco\\projeto\\trabalho-a1---intro-ao-python---francisco-leal\\venv\\lib\\site-packages (from -r requirements.txt (line 26)) (3.4)\n",
      "Requirement already satisfied: ipykernel==6.25.2 in d:\\documentos_d\\projeto_francisco\\projeto\\trabalho-a1---intro-ao-python---francisco-leal\\venv\\lib\\site-packages (from -r requirements.txt (line 27)) (6.25.2)\n",
      "Requirement already satisfied: ipython==8.15.0 in d:\\documentos_d\\projeto_francisco\\projeto\\trabalho-a1---intro-ao-python---francisco-leal\\venv\\lib\\site-packages (from -r requirements.txt (line 28)) (8.15.0)\n",
      "Requirement already satisfied: isoduration==20.11.0 in d:\\documentos_d\\projeto_francisco\\projeto\\trabalho-a1---intro-ao-python---francisco-leal\\venv\\lib\\site-packages (from -r requirements.txt (line 29)) (20.11.0)\n",
      "Requirement already satisfied: jedi==0.19.0 in d:\\documentos_d\\projeto_francisco\\projeto\\trabalho-a1---intro-ao-python---francisco-leal\\venv\\lib\\site-packages (from -r requirements.txt (line 30)) (0.19.0)\n",
      "Requirement already satisfied: Jinja2==3.1.2 in d:\\documentos_d\\projeto_francisco\\projeto\\trabalho-a1---intro-ao-python---francisco-leal\\venv\\lib\\site-packages (from -r requirements.txt (line 31)) (3.1.2)\n",
      "Requirement already satisfied: json5==0.9.14 in d:\\documentos_d\\projeto_francisco\\projeto\\trabalho-a1---intro-ao-python---francisco-leal\\venv\\lib\\site-packages (from -r requirements.txt (line 32)) (0.9.14)\n",
      "Requirement already satisfied: jsonpointer==2.4 in d:\\documentos_d\\projeto_francisco\\projeto\\trabalho-a1---intro-ao-python---francisco-leal\\venv\\lib\\site-packages (from -r requirements.txt (line 33)) (2.4)\n",
      "Requirement already satisfied: jsonschema==4.19.1 in d:\\documentos_d\\projeto_francisco\\projeto\\trabalho-a1---intro-ao-python---francisco-leal\\venv\\lib\\site-packages (from -r requirements.txt (line 34)) (4.19.1)\n",
      "Requirement already satisfied: jsonschema-specifications==2023.7.1 in d:\\documentos_d\\projeto_francisco\\projeto\\trabalho-a1---intro-ao-python---francisco-leal\\venv\\lib\\site-packages (from -r requirements.txt (line 35)) (2023.7.1)\n",
      "Requirement already satisfied: jupyter-events==0.7.0 in d:\\documentos_d\\projeto_francisco\\projeto\\trabalho-a1---intro-ao-python---francisco-leal\\venv\\lib\\site-packages (from -r requirements.txt (line 36)) (0.7.0)\n",
      "Requirement already satisfied: jupyter-lsp==2.2.0 in d:\\documentos_d\\projeto_francisco\\projeto\\trabalho-a1---intro-ao-python---francisco-leal\\venv\\lib\\site-packages (from -r requirements.txt (line 37)) (2.2.0)\n",
      "Requirement already satisfied: jupyter_client==8.3.1 in d:\\documentos_d\\projeto_francisco\\projeto\\trabalho-a1---intro-ao-python---francisco-leal\\venv\\lib\\site-packages (from -r requirements.txt (line 38)) (8.3.1)\n",
      "Requirement already satisfied: jupyter_core==5.3.1 in d:\\documentos_d\\projeto_francisco\\projeto\\trabalho-a1---intro-ao-python---francisco-leal\\venv\\lib\\site-packages (from -r requirements.txt (line 39)) (5.3.1)\n",
      "Requirement already satisfied: jupyter_server==2.7.3 in d:\\documentos_d\\projeto_francisco\\projeto\\trabalho-a1---intro-ao-python---francisco-leal\\venv\\lib\\site-packages (from -r requirements.txt (line 40)) (2.7.3)\n",
      "Requirement already satisfied: jupyter_server_terminals==0.4.4 in d:\\documentos_d\\projeto_francisco\\projeto\\trabalho-a1---intro-ao-python---francisco-leal\\venv\\lib\\site-packages (from -r requirements.txt (line 41)) (0.4.4)\n",
      "Requirement already satisfied: jupyterlab==4.0.6 in d:\\documentos_d\\projeto_francisco\\projeto\\trabalho-a1---intro-ao-python---francisco-leal\\venv\\lib\\site-packages (from -r requirements.txt (line 42)) (4.0.6)\n",
      "Requirement already satisfied: jupyterlab-pygments==0.2.2 in d:\\documentos_d\\projeto_francisco\\projeto\\trabalho-a1---intro-ao-python---francisco-leal\\venv\\lib\\site-packages (from -r requirements.txt (line 43)) (0.2.2)\n",
      "Requirement already satisfied: jupyterlab_server==2.25.0 in d:\\documentos_d\\projeto_francisco\\projeto\\trabalho-a1---intro-ao-python---francisco-leal\\venv\\lib\\site-packages (from -r requirements.txt (line 44)) (2.25.0)\n",
      "Requirement already satisfied: kiwisolver==1.4.5 in d:\\documentos_d\\projeto_francisco\\projeto\\trabalho-a1---intro-ao-python---francisco-leal\\venv\\lib\\site-packages (from -r requirements.txt (line 45)) (1.4.5)\n",
      "Requirement already satisfied: MarkupSafe==2.1.3 in d:\\documentos_d\\projeto_francisco\\projeto\\trabalho-a1---intro-ao-python---francisco-leal\\venv\\lib\\site-packages (from -r requirements.txt (line 46)) (2.1.3)\n",
      "Requirement already satisfied: matplotlib==3.8.0 in d:\\documentos_d\\projeto_francisco\\projeto\\trabalho-a1---intro-ao-python---francisco-leal\\venv\\lib\\site-packages (from -r requirements.txt (line 47)) (3.8.0)\n",
      "Requirement already satisfied: matplotlib-inline==0.1.6 in d:\\documentos_d\\projeto_francisco\\projeto\\trabalho-a1---intro-ao-python---francisco-leal\\venv\\lib\\site-packages (from -r requirements.txt (line 48)) (0.1.6)\n",
      "Requirement already satisfied: mistune==3.0.1 in d:\\documentos_d\\projeto_francisco\\projeto\\trabalho-a1---intro-ao-python---francisco-leal\\venv\\lib\\site-packages (from -r requirements.txt (line 49)) (3.0.1)\n",
      "Requirement already satisfied: nbclient==0.8.0 in d:\\documentos_d\\projeto_francisco\\projeto\\trabalho-a1---intro-ao-python---francisco-leal\\venv\\lib\\site-packages (from -r requirements.txt (line 50)) (0.8.0)\n",
      "Requirement already satisfied: nbconvert==7.8.0 in d:\\documentos_d\\projeto_francisco\\projeto\\trabalho-a1---intro-ao-python---francisco-leal\\venv\\lib\\site-packages (from -r requirements.txt (line 51)) (7.8.0)\n",
      "Requirement already satisfied: nbformat==5.9.2 in d:\\documentos_d\\projeto_francisco\\projeto\\trabalho-a1---intro-ao-python---francisco-leal\\venv\\lib\\site-packages (from -r requirements.txt (line 52)) (5.9.2)\n",
      "Requirement already satisfied: nest-asyncio==1.5.8 in d:\\documentos_d\\projeto_francisco\\projeto\\trabalho-a1---intro-ao-python---francisco-leal\\venv\\lib\\site-packages (from -r requirements.txt (line 53)) (1.5.8)\n",
      "Requirement already satisfied: notebook==7.0.4 in d:\\documentos_d\\projeto_francisco\\projeto\\trabalho-a1---intro-ao-python---francisco-leal\\venv\\lib\\site-packages (from -r requirements.txt (line 54)) (7.0.4)\n",
      "Requirement already satisfied: notebook_shim==0.2.3 in d:\\documentos_d\\projeto_francisco\\projeto\\trabalho-a1---intro-ao-python---francisco-leal\\venv\\lib\\site-packages (from -r requirements.txt (line 55)) (0.2.3)\n",
      "Requirement already satisfied: numpy==1.26.0 in d:\\documentos_d\\projeto_francisco\\projeto\\trabalho-a1---intro-ao-python---francisco-leal\\venv\\lib\\site-packages (from -r requirements.txt (line 56)) (1.26.0)\n",
      "Requirement already satisfied: overrides==7.4.0 in d:\\documentos_d\\projeto_francisco\\projeto\\trabalho-a1---intro-ao-python---francisco-leal\\venv\\lib\\site-packages (from -r requirements.txt (line 57)) (7.4.0)\n",
      "Requirement already satisfied: packaging==23.1 in d:\\documentos_d\\projeto_francisco\\projeto\\trabalho-a1---intro-ao-python---francisco-leal\\venv\\lib\\site-packages (from -r requirements.txt (line 58)) (23.1)\n",
      "Requirement already satisfied: pandas==2.1.1 in d:\\documentos_d\\projeto_francisco\\projeto\\trabalho-a1---intro-ao-python---francisco-leal\\venv\\lib\\site-packages (from -r requirements.txt (line 59)) (2.1.1)\n",
      "Requirement already satisfied: pandocfilters==1.5.0 in d:\\documentos_d\\projeto_francisco\\projeto\\trabalho-a1---intro-ao-python---francisco-leal\\venv\\lib\\site-packages (from -r requirements.txt (line 60)) (1.5.0)\n",
      "Requirement already satisfied: parso==0.8.3 in d:\\documentos_d\\projeto_francisco\\projeto\\trabalho-a1---intro-ao-python---francisco-leal\\venv\\lib\\site-packages (from -r requirements.txt (line 61)) (0.8.3)\n",
      "Requirement already satisfied: pickleshare==0.7.5 in d:\\documentos_d\\projeto_francisco\\projeto\\trabalho-a1---intro-ao-python---francisco-leal\\venv\\lib\\site-packages (from -r requirements.txt (line 62)) (0.7.5)\n",
      "Requirement already satisfied: Pillow==10.0.1 in d:\\documentos_d\\projeto_francisco\\projeto\\trabalho-a1---intro-ao-python---francisco-leal\\venv\\lib\\site-packages (from -r requirements.txt (line 63)) (10.0.1)\n",
      "Requirement already satisfied: platformdirs==3.10.0 in d:\\documentos_d\\projeto_francisco\\projeto\\trabalho-a1---intro-ao-python---francisco-leal\\venv\\lib\\site-packages (from -r requirements.txt (line 64)) (3.10.0)\n",
      "Requirement already satisfied: prometheus-client==0.17.1 in d:\\documentos_d\\projeto_francisco\\projeto\\trabalho-a1---intro-ao-python---francisco-leal\\venv\\lib\\site-packages (from -r requirements.txt (line 65)) (0.17.1)\n",
      "Requirement already satisfied: prompt-toolkit==3.0.39 in d:\\documentos_d\\projeto_francisco\\projeto\\trabalho-a1---intro-ao-python---francisco-leal\\venv\\lib\\site-packages (from -r requirements.txt (line 66)) (3.0.39)\n",
      "Requirement already satisfied: psutil==5.9.5 in d:\\documentos_d\\projeto_francisco\\projeto\\trabalho-a1---intro-ao-python---francisco-leal\\venv\\lib\\site-packages (from -r requirements.txt (line 67)) (5.9.5)\n",
      "Requirement already satisfied: pure-eval==0.2.2 in d:\\documentos_d\\projeto_francisco\\projeto\\trabalho-a1---intro-ao-python---francisco-leal\\venv\\lib\\site-packages (from -r requirements.txt (line 68)) (0.2.2)\n",
      "Requirement already satisfied: pycparser==2.21 in d:\\documentos_d\\projeto_francisco\\projeto\\trabalho-a1---intro-ao-python---francisco-leal\\venv\\lib\\site-packages (from -r requirements.txt (line 69)) (2.21)\n",
      "Requirement already satisfied: Pygments==2.16.1 in d:\\documentos_d\\projeto_francisco\\projeto\\trabalho-a1---intro-ao-python---francisco-leal\\venv\\lib\\site-packages (from -r requirements.txt (line 70)) (2.16.1)\n",
      "Requirement already satisfied: pyparsing==3.1.1 in d:\\documentos_d\\projeto_francisco\\projeto\\trabalho-a1---intro-ao-python---francisco-leal\\venv\\lib\\site-packages (from -r requirements.txt (line 71)) (3.1.1)\n",
      "Requirement already satisfied: python-dateutil==2.8.2 in d:\\documentos_d\\projeto_francisco\\projeto\\trabalho-a1---intro-ao-python---francisco-leal\\venv\\lib\\site-packages (from -r requirements.txt (line 72)) (2.8.2)\n",
      "Requirement already satisfied: python-json-logger==2.0.7 in d:\\documentos_d\\projeto_francisco\\projeto\\trabalho-a1---intro-ao-python---francisco-leal\\venv\\lib\\site-packages (from -r requirements.txt (line 73)) (2.0.7)\n",
      "Requirement already satisfied: pytz==2023.3.post1 in d:\\documentos_d\\projeto_francisco\\projeto\\trabalho-a1---intro-ao-python---francisco-leal\\venv\\lib\\site-packages (from -r requirements.txt (line 74)) (2023.3.post1)\n",
      "Requirement already satisfied: pywin32==306 in d:\\documentos_d\\projeto_francisco\\projeto\\trabalho-a1---intro-ao-python---francisco-leal\\venv\\lib\\site-packages (from -r requirements.txt (line 75)) (306)\n",
      "Requirement already satisfied: pywinpty==2.0.11 in d:\\documentos_d\\projeto_francisco\\projeto\\trabalho-a1---intro-ao-python---francisco-leal\\venv\\lib\\site-packages (from -r requirements.txt (line 76)) (2.0.11)\n",
      "Requirement already satisfied: PyYAML==6.0.1 in d:\\documentos_d\\projeto_francisco\\projeto\\trabalho-a1---intro-ao-python---francisco-leal\\venv\\lib\\site-packages (from -r requirements.txt (line 77)) (6.0.1)\n",
      "Requirement already satisfied: pyzmq==25.1.1 in d:\\documentos_d\\projeto_francisco\\projeto\\trabalho-a1---intro-ao-python---francisco-leal\\venv\\lib\\site-packages (from -r requirements.txt (line 78)) (25.1.1)\n",
      "Requirement already satisfied: referencing==0.30.2 in d:\\documentos_d\\projeto_francisco\\projeto\\trabalho-a1---intro-ao-python---francisco-leal\\venv\\lib\\site-packages (from -r requirements.txt (line 79)) (0.30.2)\n",
      "Requirement already satisfied: requests==2.31.0 in d:\\documentos_d\\projeto_francisco\\projeto\\trabalho-a1---intro-ao-python---francisco-leal\\venv\\lib\\site-packages (from -r requirements.txt (line 80)) (2.31.0)\n",
      "Requirement already satisfied: rfc3339-validator==0.1.4 in d:\\documentos_d\\projeto_francisco\\projeto\\trabalho-a1---intro-ao-python---francisco-leal\\venv\\lib\\site-packages (from -r requirements.txt (line 81)) (0.1.4)\n",
      "Requirement already satisfied: rfc3986-validator==0.1.1 in d:\\documentos_d\\projeto_francisco\\projeto\\trabalho-a1---intro-ao-python---francisco-leal\\venv\\lib\\site-packages (from -r requirements.txt (line 82)) (0.1.1)\n",
      "Requirement already satisfied: rpds-py==0.10.3 in d:\\documentos_d\\projeto_francisco\\projeto\\trabalho-a1---intro-ao-python---francisco-leal\\venv\\lib\\site-packages (from -r requirements.txt (line 83)) (0.10.3)\n",
      "Requirement already satisfied: seaborn==0.12.2 in d:\\documentos_d\\projeto_francisco\\projeto\\trabalho-a1---intro-ao-python---francisco-leal\\venv\\lib\\site-packages (from -r requirements.txt (line 84)) (0.12.2)\n",
      "Requirement already satisfied: Send2Trash==1.8.2 in d:\\documentos_d\\projeto_francisco\\projeto\\trabalho-a1---intro-ao-python---francisco-leal\\venv\\lib\\site-packages (from -r requirements.txt (line 85)) (1.8.2)\n",
      "Requirement already satisfied: six==1.16.0 in d:\\documentos_d\\projeto_francisco\\projeto\\trabalho-a1---intro-ao-python---francisco-leal\\venv\\lib\\site-packages (from -r requirements.txt (line 86)) (1.16.0)\n",
      "Requirement already satisfied: sniffio==1.3.0 in d:\\documentos_d\\projeto_francisco\\projeto\\trabalho-a1---intro-ao-python---francisco-leal\\venv\\lib\\site-packages (from -r requirements.txt (line 87)) (1.3.0)\n",
      "Requirement already satisfied: soupsieve==2.5 in d:\\documentos_d\\projeto_francisco\\projeto\\trabalho-a1---intro-ao-python---francisco-leal\\venv\\lib\\site-packages (from -r requirements.txt (line 88)) (2.5)\n",
      "Requirement already satisfied: stack-data==0.6.2 in d:\\documentos_d\\projeto_francisco\\projeto\\trabalho-a1---intro-ao-python---francisco-leal\\venv\\lib\\site-packages (from -r requirements.txt (line 89)) (0.6.2)\n",
      "Requirement already satisfied: terminado==0.17.1 in d:\\documentos_d\\projeto_francisco\\projeto\\trabalho-a1---intro-ao-python---francisco-leal\\venv\\lib\\site-packages (from -r requirements.txt (line 90)) (0.17.1)\n",
      "Requirement already satisfied: tinycss2==1.2.1 in d:\\documentos_d\\projeto_francisco\\projeto\\trabalho-a1---intro-ao-python---francisco-leal\\venv\\lib\\site-packages (from -r requirements.txt (line 91)) (1.2.1)\n",
      "Requirement already satisfied: tornado==6.3.3 in d:\\documentos_d\\projeto_francisco\\projeto\\trabalho-a1---intro-ao-python---francisco-leal\\venv\\lib\\site-packages (from -r requirements.txt (line 92)) (6.3.3)\n",
      "Requirement already satisfied: traitlets==5.10.0 in d:\\documentos_d\\projeto_francisco\\projeto\\trabalho-a1---intro-ao-python---francisco-leal\\venv\\lib\\site-packages (from -r requirements.txt (line 93)) (5.10.0)\n",
      "Requirement already satisfied: tzdata==2023.3 in d:\\documentos_d\\projeto_francisco\\projeto\\trabalho-a1---intro-ao-python---francisco-leal\\venv\\lib\\site-packages (from -r requirements.txt (line 94)) (2023.3)\n",
      "Requirement already satisfied: uri-template==1.3.0 in d:\\documentos_d\\projeto_francisco\\projeto\\trabalho-a1---intro-ao-python---francisco-leal\\venv\\lib\\site-packages (from -r requirements.txt (line 95)) (1.3.0)\n",
      "Requirement already satisfied: urllib3==2.0.5 in d:\\documentos_d\\projeto_francisco\\projeto\\trabalho-a1---intro-ao-python---francisco-leal\\venv\\lib\\site-packages (from -r requirements.txt (line 96)) (2.0.5)\n",
      "Requirement already satisfied: wcwidth==0.2.6 in d:\\documentos_d\\projeto_francisco\\projeto\\trabalho-a1---intro-ao-python---francisco-leal\\venv\\lib\\site-packages (from -r requirements.txt (line 97)) (0.2.6)\n",
      "Requirement already satisfied: webcolors==1.13 in d:\\documentos_d\\projeto_francisco\\projeto\\trabalho-a1---intro-ao-python---francisco-leal\\venv\\lib\\site-packages (from -r requirements.txt (line 98)) (1.13)\n",
      "Requirement already satisfied: webencodings==0.5.1 in d:\\documentos_d\\projeto_francisco\\projeto\\trabalho-a1---intro-ao-python---francisco-leal\\venv\\lib\\site-packages (from -r requirements.txt (line 99)) (0.5.1)\n",
      "Requirement already satisfied: websocket-client==1.6.3 in d:\\documentos_d\\projeto_francisco\\projeto\\trabalho-a1---intro-ao-python---francisco-leal\\venv\\lib\\site-packages (from -r requirements.txt (line 100)) (1.6.3)\n"
     ]
    },
    {
     "name": "stderr",
     "output_type": "stream",
     "text": [
      "\n",
      "[notice] A new release of pip available: 22.3.1 -> 23.2.1\n",
      "[notice] To update, run: python.exe -m pip install --upgrade pip\n"
     ]
    }
   ],
   "source": [
    "!pip install -r requirements.txt"
   ]
  },
  {
   "cell_type": "code",
   "execution_count": 27,
   "metadata": {},
   "outputs": [],
   "source": [
    "from matplotlib import pyplot as plt\n",
    "\n",
    "import pandas as pd\n",
    "import numpy as np\n",
    "import seaborn as sns\n",
    "import os, sys"
   ]
  },
  {
   "cell_type": "markdown",
   "metadata": {},
   "source": [
    "##### Importe dos dados"
   ]
  },
  {
   "cell_type": "code",
   "execution_count": 28,
   "metadata": {},
   "outputs": [
    {
     "name": "stdout",
     "output_type": "stream",
     "text": [
      "<class 'pandas.core.frame.DataFrame'>\n",
      "RangeIndex: 134 entries, 0 to 133\n",
      "Data columns (total 4 columns):\n",
      " #   Column                 Non-Null Count  Dtype  \n",
      "---  ------                 --------------  -----  \n",
      " 0   Countries              134 non-null    object \n",
      " 1   Happiness index, 2022  134 non-null    float64\n",
      " 2   Global rank            134 non-null    int64  \n",
      " 3   Available data         134 non-null    object \n",
      "dtypes: float64(1), int64(1), object(2)\n",
      "memory usage: 4.3+ KB\n"
     ]
    }
   ],
   "source": [
    "# Importando dataset com ranking e índice de felicidade:\n",
    "happines_dataset_path = \"../data/happiness.csv\"\n",
    "happiness_df = pd.read_csv(happines_dataset_path)\n",
    "happiness_df.info()"
   ]
  },
  {
   "cell_type": "code",
   "execution_count": 29,
   "metadata": {},
   "outputs": [
    {
     "name": "stdout",
     "output_type": "stream",
     "text": [
      "<class 'pandas.core.frame.DataFrame'>\n",
      "RangeIndex: 195 entries, 0 to 194\n",
      "Data columns (total 6 columns):\n",
      " #   Column     Non-Null Count  Dtype  \n",
      "---  ------     --------------  -----  \n",
      " 0   Location   195 non-null    object \n",
      " 1   Region     195 non-null    object \n",
      " 2   Subregion  195 non-null    object \n",
      " 3   Rate       195 non-null    float64\n",
      " 4   Count      195 non-null    int64  \n",
      " 5   Year       195 non-null    int64  \n",
      "dtypes: float64(1), int64(2), object(3)\n",
      "memory usage: 9.3+ KB\n"
     ]
    }
   ],
   "source": [
    "# Importando dataset com taxa de homicidios:\n",
    "homicide_rate_dataset_path = \"../data/countries-by-intentional-homicide-rate.csv\"\n",
    "homicide_df = pd.read_csv(homicide_rate_dataset_path)\n",
    "homicide_df.info()"
   ]
  },
  {
   "cell_type": "markdown",
   "metadata": {},
   "source": [
    "##### 1 - Manipulação e Tratamento de dados"
   ]
  },
  {
   "cell_type": "code",
   "execution_count": 30,
   "metadata": {},
   "outputs": [
    {
     "name": "stdout",
     "output_type": "stream",
     "text": [
      "Dataset de Índice e Ranking de Felicidade\n"
     ]
    },
    {
     "data": {
      "text/html": [
       "<div>\n",
       "<style scoped>\n",
       "    .dataframe tbody tr th:only-of-type {\n",
       "        vertical-align: middle;\n",
       "    }\n",
       "\n",
       "    .dataframe tbody tr th {\n",
       "        vertical-align: top;\n",
       "    }\n",
       "\n",
       "    .dataframe thead th {\n",
       "        text-align: right;\n",
       "    }\n",
       "</style>\n",
       "<table border=\"1\" class=\"dataframe\">\n",
       "  <thead>\n",
       "    <tr style=\"text-align: right;\">\n",
       "      <th></th>\n",
       "      <th>country</th>\n",
       "      <th>happiness</th>\n",
       "      <th>ranking</th>\n",
       "      <th>date_of_data</th>\n",
       "    </tr>\n",
       "  </thead>\n",
       "  <tbody>\n",
       "    <tr>\n",
       "      <th>0</th>\n",
       "      <td>Finland</td>\n",
       "      <td>7.80</td>\n",
       "      <td>1</td>\n",
       "      <td>2013 - 2022</td>\n",
       "    </tr>\n",
       "    <tr>\n",
       "      <th>1</th>\n",
       "      <td>Denmark</td>\n",
       "      <td>7.59</td>\n",
       "      <td>2</td>\n",
       "      <td>2013 - 2022</td>\n",
       "    </tr>\n",
       "    <tr>\n",
       "      <th>2</th>\n",
       "      <td>Iceland</td>\n",
       "      <td>7.53</td>\n",
       "      <td>3</td>\n",
       "      <td>2013 - 2022</td>\n",
       "    </tr>\n",
       "    <tr>\n",
       "      <th>3</th>\n",
       "      <td>Israel</td>\n",
       "      <td>7.47</td>\n",
       "      <td>4</td>\n",
       "      <td>2013 - 2022</td>\n",
       "    </tr>\n",
       "    <tr>\n",
       "      <th>4</th>\n",
       "      <td>Netherlands</td>\n",
       "      <td>7.40</td>\n",
       "      <td>5</td>\n",
       "      <td>2013 - 2022</td>\n",
       "    </tr>\n",
       "    <tr>\n",
       "      <th>...</th>\n",
       "      <td>...</td>\n",
       "      <td>...</td>\n",
       "      <td>...</td>\n",
       "      <td>...</td>\n",
       "    </tr>\n",
       "    <tr>\n",
       "      <th>129</th>\n",
       "      <td>DR Congo</td>\n",
       "      <td>3.21</td>\n",
       "      <td>130</td>\n",
       "      <td>2017 - 2022</td>\n",
       "    </tr>\n",
       "    <tr>\n",
       "      <th>130</th>\n",
       "      <td>Zimbabwe</td>\n",
       "      <td>3.20</td>\n",
       "      <td>131</td>\n",
       "      <td>2013 - 2022</td>\n",
       "    </tr>\n",
       "    <tr>\n",
       "      <th>131</th>\n",
       "      <td>Sierra Leone</td>\n",
       "      <td>3.14</td>\n",
       "      <td>132</td>\n",
       "      <td>2013 - 2022</td>\n",
       "    </tr>\n",
       "    <tr>\n",
       "      <th>132</th>\n",
       "      <td>Lebanon</td>\n",
       "      <td>2.39</td>\n",
       "      <td>133</td>\n",
       "      <td>2013 - 2022</td>\n",
       "    </tr>\n",
       "    <tr>\n",
       "      <th>133</th>\n",
       "      <td>Afghanistan</td>\n",
       "      <td>1.86</td>\n",
       "      <td>134</td>\n",
       "      <td>2013 - 2022</td>\n",
       "    </tr>\n",
       "  </tbody>\n",
       "</table>\n",
       "<p>134 rows × 4 columns</p>\n",
       "</div>"
      ],
      "text/plain": [
       "          country  happiness  ranking date_of_data\n",
       "0         Finland       7.80        1  2013 - 2022\n",
       "1         Denmark       7.59        2  2013 - 2022\n",
       "2         Iceland       7.53        3  2013 - 2022\n",
       "3          Israel       7.47        4  2013 - 2022\n",
       "4     Netherlands       7.40        5  2013 - 2022\n",
       "..            ...        ...      ...          ...\n",
       "129      DR Congo       3.21      130  2017 - 2022\n",
       "130      Zimbabwe       3.20      131  2013 - 2022\n",
       "131  Sierra Leone       3.14      132  2013 - 2022\n",
       "132       Lebanon       2.39      133  2013 - 2022\n",
       "133   Afghanistan       1.86      134  2013 - 2022\n",
       "\n",
       "[134 rows x 4 columns]"
      ]
     },
     "metadata": {},
     "output_type": "display_data"
    },
    {
     "name": "stdout",
     "output_type": "stream",
     "text": [
      "Dataset de Taxa de Homícidios\n"
     ]
    },
    {
     "data": {
      "text/html": [
       "<div>\n",
       "<style scoped>\n",
       "    .dataframe tbody tr th:only-of-type {\n",
       "        vertical-align: middle;\n",
       "    }\n",
       "\n",
       "    .dataframe tbody tr th {\n",
       "        vertical-align: top;\n",
       "    }\n",
       "\n",
       "    .dataframe thead th {\n",
       "        text-align: right;\n",
       "    }\n",
       "</style>\n",
       "<table border=\"1\" class=\"dataframe\">\n",
       "  <thead>\n",
       "    <tr style=\"text-align: right;\">\n",
       "      <th></th>\n",
       "      <th>country</th>\n",
       "      <th>rate</th>\n",
       "      <th>count</th>\n",
       "      <th>date_of_data</th>\n",
       "    </tr>\n",
       "  </thead>\n",
       "  <tbody>\n",
       "    <tr>\n",
       "      <th>38</th>\n",
       "      <td>Channel Islands</td>\n",
       "      <td>0.0</td>\n",
       "      <td>0</td>\n",
       "      <td>2010</td>\n",
       "    </tr>\n",
       "    <tr>\n",
       "      <th>73</th>\n",
       "      <td>Holy See</td>\n",
       "      <td>0.0</td>\n",
       "      <td>0</td>\n",
       "      <td>2015</td>\n",
       "    </tr>\n",
       "    <tr>\n",
       "      <th>84</th>\n",
       "      <td>Isle of Man</td>\n",
       "      <td>0.0</td>\n",
       "      <td>0</td>\n",
       "      <td>2016</td>\n",
       "    </tr>\n",
       "    <tr>\n",
       "      <th>112</th>\n",
       "      <td>Monaco</td>\n",
       "      <td>0.0</td>\n",
       "      <td>0</td>\n",
       "      <td>2015</td>\n",
       "    </tr>\n",
       "    <tr>\n",
       "      <th>151</th>\n",
       "      <td>San Marino</td>\n",
       "      <td>0.0</td>\n",
       "      <td>0</td>\n",
       "      <td>2011</td>\n",
       "    </tr>\n",
       "    <tr>\n",
       "      <th>...</th>\n",
       "      <td>...</td>\n",
       "      <td>...</td>\n",
       "      <td>...</td>\n",
       "      <td>...</td>\n",
       "    </tr>\n",
       "    <tr>\n",
       "      <th>53</th>\n",
       "      <td>El Salvador</td>\n",
       "      <td>37.2</td>\n",
       "      <td>2398</td>\n",
       "      <td>2019</td>\n",
       "    </tr>\n",
       "    <tr>\n",
       "      <th>176</th>\n",
       "      <td>Trinidad and Tobago</td>\n",
       "      <td>38.6</td>\n",
       "      <td>538</td>\n",
       "      <td>2019</td>\n",
       "    </tr>\n",
       "    <tr>\n",
       "      <th>98</th>\n",
       "      <td>Lesotho</td>\n",
       "      <td>43.6</td>\n",
       "      <td>897</td>\n",
       "      <td>2015</td>\n",
       "    </tr>\n",
       "    <tr>\n",
       "      <th>87</th>\n",
       "      <td>Jamaica</td>\n",
       "      <td>44.7</td>\n",
       "      <td>1323</td>\n",
       "      <td>2020</td>\n",
       "    </tr>\n",
       "    <tr>\n",
       "      <th>187</th>\n",
       "      <td>U.S. Virgin Islands</td>\n",
       "      <td>49.3</td>\n",
       "      <td>52</td>\n",
       "      <td>2012</td>\n",
       "    </tr>\n",
       "  </tbody>\n",
       "</table>\n",
       "<p>195 rows × 4 columns</p>\n",
       "</div>"
      ],
      "text/plain": [
       "                 country  rate  count  date_of_data\n",
       "38       Channel Islands   0.0      0          2010\n",
       "73              Holy See   0.0      0          2015\n",
       "84           Isle of Man   0.0      0          2016\n",
       "112               Monaco   0.0      0          2015\n",
       "151           San Marino   0.0      0          2011\n",
       "..                   ...   ...    ...           ...\n",
       "53           El Salvador  37.2   2398          2019\n",
       "176  Trinidad and Tobago  38.6    538          2019\n",
       "98               Lesotho  43.6    897          2015\n",
       "87               Jamaica  44.7   1323          2020\n",
       "187  U.S. Virgin Islands  49.3     52          2012\n",
       "\n",
       "[195 rows x 4 columns]"
      ]
     },
     "metadata": {},
     "output_type": "display_data"
    }
   ],
   "source": [
    "# Renomeando as colunas:\n",
    "happiness_df = happiness_df.rename(columns={\"Countries\": \"country\", \"Happiness index, 2022\": \"happiness\", \"Global rank\": \"ranking\", \"Available data\": \"date_of_data\"})\n",
    "homicide_df = homicide_df[[\"Location\",\"Rate\",\"Count\", \"Year\"]].rename(columns={\"Location\": \"country\", \"Rate\": \"rate\", \"Count\":\"count\", \"Year\": \"date_of_data\"})\n",
    "\n",
    "# Garantindo a ordem do ranking de felicidade dos países no dataset de felicidade:\n",
    "happiness_df = happiness_df.sort_values(by=\"happiness\", ascending=False)\n",
    "print(\"Dataset de Índice e Ranking de Felicidade\")\n",
    "display(happiness_df)\n",
    "\n",
    "# Ordenando países por odem decrescente da taxa de homícidos:\n",
    "homicide_df = homicide_df.sort_values(by=\"rate\", ascending=True)\n",
    "print(\"Dataset de Taxa de Homícidios\")\n",
    "display(homicide_df)"
   ]
  },
  {
   "cell_type": "code",
   "execution_count": 31,
   "metadata": {},
   "outputs": [],
   "source": [
    "# Trocando colunas com object para String:\n",
    "happiness_df[\"country\"] = happiness_df[\"country\"].astype(str)\n",
    "homicide_df[\"country\"] = homicide_df[\"country\"].astype(str)"
   ]
  },
  {
   "cell_type": "code",
   "execution_count": 32,
   "metadata": {},
   "outputs": [
    {
     "name": "stdout",
     "output_type": "stream",
     "text": [
      "Não existem dados nulos no conjunto de dados\n",
      "\n",
      "Total de dados nulos por atributo:\n",
      "country         0\n",
      "happiness       0\n",
      "ranking         0\n",
      "date_of_data    0\n",
      "dtype: int64\n"
     ]
    }
   ],
   "source": [
    "# Verifica se existem dados nulos (NaN) no dataset de felicidade:\n",
    "if happiness_df.isnull().values.any():\n",
    "    print(\"Existem dados nulos no conjunto de dados\")\n",
    "else:\n",
    "    print(\"Não existem dados nulos no conjunto de dados\")\n",
    "\n",
    "sum_of_nulls = happiness_df.isnull().sum()\n",
    "print(\"\\nTotal de dados nulos por atributo:\")\n",
    "print(sum_of_nulls)"
   ]
  },
  {
   "cell_type": "code",
   "execution_count": 33,
   "metadata": {},
   "outputs": [
    {
     "name": "stdout",
     "output_type": "stream",
     "text": [
      "Não existem dados nulos no conjunto de dados\n",
      "\n",
      "Total de dados nulos por atributo:\n",
      "country         0\n",
      "rate            0\n",
      "count           0\n",
      "date_of_data    0\n",
      "dtype: int64\n"
     ]
    }
   ],
   "source": [
    "# Verifica se existem dados nulos (NaN) no dataset de homicídios:\n",
    "if homicide_df.isnull().values.any():\n",
    "    print(\"Existem dados nulos no conjunto de dados\")\n",
    "else:\n",
    "    print(\"Não existem dados nulos no conjunto de dados\")\n",
    "\n",
    "sum_of_nulls = homicide_df.isnull().sum()\n",
    "print(\"\\nTotal de dados nulos por atributo:\")\n",
    "print(sum_of_nulls)"
   ]
  },
  {
   "cell_type": "code",
   "execution_count": 34,
   "metadata": {},
   "outputs": [
    {
     "name": "stdout",
     "output_type": "stream",
     "text": [
      "Períodos dos dados disponíveis no dataset de felicidade:  ['2013 - 2022' '2017 - 2022' '2016 - 2022' '2015 - 2022' '2019 - 2022']\n",
      "\n",
      "Períodos dos dados disponíveis no dataset de homicídio:  [2010 2015 2016 2011 2019 2009 2020 2018 2013 2017 2012 2014 2006 2008\n",
      " 2007 2021]\n"
     ]
    }
   ],
   "source": [
    "# Verificando quais períodos de data disponível no dataset de felicidade:\n",
    "print(\"Períodos dos dados disponíveis no dataset de felicidade: \", happiness_df[\"date_of_data\"].unique())\n",
    "\n",
    "# Verificando quais períodos de data disponível no dataset de homicídio:\n",
    "print(\"\\nPeríodos dos dados disponíveis no dataset de homicídio: \", homicide_df[\"date_of_data\"].unique())"
   ]
  },
  {
   "cell_type": "markdown",
   "metadata": {},
   "source": [
    "##### 2 - Estística Descritiva"
   ]
  },
  {
   "cell_type": "code",
   "execution_count": 35,
   "metadata": {},
   "outputs": [
    {
     "name": "stdout",
     "output_type": "stream",
     "text": [
      "Existem 134 países no dataset de felicidade. \n",
      "Existem 195 países no dataset de homicídios. \n"
     ]
    }
   ],
   "source": [
    "# Total de países na pesquisa:\n",
    "print(\"Existem %d países no dataset de felicidade. \" % len(happiness_df[\"country\"]))\n",
    "print(\"Existem %d países no dataset de homicídios. \" % len(homicide_df[\"country\"]))"
   ]
  },
  {
   "cell_type": "code",
   "execution_count": 36,
   "metadata": {},
   "outputs": [
    {
     "name": "stdout",
     "output_type": "stream",
     "text": [
      "A média do índice de felicidade é: 5.54\n",
      "A mediana do índice de felicidade é: 5.67\n",
      "A moda do índice de felicidade é: 6.26\n"
     ]
    }
   ],
   "source": [
    "# Média, moda e mediana do Índice de felicidade de 2022 (Happiness Index, 2022:\n",
    "mean = happiness_df[\"happiness\"].mean()\n",
    "median = happiness_df[\"happiness\"].median()\n",
    "mode = max(set(list(happiness_df[\"happiness\"].values)), key=list(happiness_df[\"happiness\"].values).count)\n",
    "\n",
    "print(\"A média do índice de felicidade é: %.2f\" % mean)\n",
    "print(\"A mediana do índice de felicidade é: %.2f\" % median)\n",
    "print(\"A moda do índice de felicidade é: %.2f\" % mode)"
   ]
  },
  {
   "cell_type": "code",
   "execution_count": 37,
   "metadata": {},
   "outputs": [
    {
     "data": {
      "text/plain": [
       "<Axes: title={'center': 'Distribuição do Índice de Felicidade'}>"
      ]
     },
     "execution_count": 37,
     "metadata": {},
     "output_type": "execute_result"
    },
    {
     "data": {
      "image/png": "[encoded data removed]",
      "text/plain": [
       "<Figure size 640x480 with 1 Axes>"
      ]
     },
     "metadata": {},
     "output_type": "display_data"
    }
   ],
   "source": [
    "# Distribuição do Índice de Felicidade:\n",
    "plt.title(\"Distribuição do Índice de Felicidade\")\n",
    "happiness_df[\"happiness\"].hist()"
   ]
  },
  {
   "cell_type": "code",
   "execution_count": 38,
   "metadata": {},
   "outputs": [
    {
     "name": "stdout",
     "output_type": "stream",
     "text": [
      "A média da taxa de homicídios é: 6.85\n",
      "A mediana da taxa de homicídios é: 2.60\n",
      "A moda da taxa de homicídios é: 0.00\n"
     ]
    }
   ],
   "source": [
    "# Média, moda e mediana da taxa de homícidios:\n",
    "mean = homicide_df[\"rate\"].mean()\n",
    "median = homicide_df[\"rate\"].median()\n",
    "mode = max(set(list(homicide_df[\"rate\"].values)), key=list(homicide_df[\"rate\"].values).count)\n",
    "\n",
    "print(\"A média da taxa de homicídios é: %.2f\" % mean)\n",
    "print(\"A mediana da taxa de homicídios é: %.2f\" % median)\n",
    "print(\"A moda da taxa de homicídios é: %.2f\" % mode)"
   ]
  },
  {
   "cell_type": "code",
   "execution_count": 39,
   "metadata": {},
   "outputs": [
    {
     "data": {
      "text/plain": [
       "<Axes: title={'center': 'Distribuição da Taxa de Homicídio'}>"
      ]
     },
     "execution_count": 39,
     "metadata": {},
     "output_type": "execute_result"
    },
    {
     "data": {
      "image/png": "[encoded data removed]",
      "text/plain": [
       "<Figure size 640x480 with 1 Axes>"
      ]
     },
     "metadata": {},
     "output_type": "display_data"
    }
   ],
   "source": [
    "# Distribuição do Índice de Felicidade:\n",
    "plt.title(\"Distribuição da Taxa de Homicídio\")\n",
    "homicide_df[\"rate\"].hist()"
   ]
  },
  {
   "cell_type": "markdown",
   "metadata": {},
   "source": [
    "- Pode-se perceber que existe uma maior quantidade de países com índice de felicidade alta (acima de 5), do que baixo. A disrirbuição não é Normal, pois tem um viés à esquerda."
   ]
  },
  {
   "cell_type": "markdown",
   "metadata": {},
   "source": [
    "- Percebe-se que no conjunto de dados de homicídios, a maior parte dos países possuem uma taxa de homicídio entre 0 a 20. Poucos países têm taxas muito altas, acima de 30."
   ]
  },
  {
   "cell_type": "markdown",
   "metadata": {},
   "source": [
    "##### 3 - Utilizando Groupby & Join"
   ]
  },
  {
   "cell_type": "code",
   "execution_count": 40,
   "metadata": {},
   "outputs": [
    {
     "data": {
      "text/html": [
       "<div>\n",
       "<style scoped>\n",
       "    .dataframe tbody tr th:only-of-type {\n",
       "        vertical-align: middle;\n",
       "    }\n",
       "\n",
       "    .dataframe tbody tr th {\n",
       "        vertical-align: top;\n",
       "    }\n",
       "\n",
       "    .dataframe thead th {\n",
       "        text-align: right;\n",
       "    }\n",
       "</style>\n",
       "<table border=\"1\" class=\"dataframe\">\n",
       "  <thead>\n",
       "    <tr style=\"text-align: right;\">\n",
       "      <th></th>\n",
       "      <th>country</th>\n",
       "      <th>happiness</th>\n",
       "      <th>ranking</th>\n",
       "    </tr>\n",
       "    <tr>\n",
       "      <th>date_of_data</th>\n",
       "      <th></th>\n",
       "      <th></th>\n",
       "      <th></th>\n",
       "    </tr>\n",
       "  </thead>\n",
       "  <tbody>\n",
       "    <tr>\n",
       "      <th>2013 - 2022</th>\n",
       "      <td>126</td>\n",
       "      <td>126</td>\n",
       "      <td>126</td>\n",
       "    </tr>\n",
       "    <tr>\n",
       "      <th>2015 - 2022</th>\n",
       "      <td>1</td>\n",
       "      <td>1</td>\n",
       "      <td>1</td>\n",
       "    </tr>\n",
       "    <tr>\n",
       "      <th>2016 - 2022</th>\n",
       "      <td>2</td>\n",
       "      <td>2</td>\n",
       "      <td>2</td>\n",
       "    </tr>\n",
       "    <tr>\n",
       "      <th>2017 - 2022</th>\n",
       "      <td>4</td>\n",
       "      <td>4</td>\n",
       "      <td>4</td>\n",
       "    </tr>\n",
       "    <tr>\n",
       "      <th>2019 - 2022</th>\n",
       "      <td>1</td>\n",
       "      <td>1</td>\n",
       "      <td>1</td>\n",
       "    </tr>\n",
       "  </tbody>\n",
       "</table>\n",
       "</div>"
      ],
      "text/plain": [
       "              country  happiness  ranking\n",
       "date_of_data                             \n",
       "2013 - 2022       126        126      126\n",
       "2015 - 2022         1          1        1\n",
       "2016 - 2022         2          2        2\n",
       "2017 - 2022         4          4        4\n",
       "2019 - 2022         1          1        1"
      ]
     },
     "metadata": {},
     "output_type": "display_data"
    }
   ],
   "source": [
    "group = happiness_df.groupby([\"date_of_data\"]).count()\n",
    "display(group)"
   ]
  },
  {
   "cell_type": "markdown",
   "metadata": {},
   "source": [
    "- Dos 134 países, 126 tiveram os dados coletados de 2013 a 2022, ou seja, cerca de 94% da amostra possui dados coletados durante o maior período de tempo."
   ]
  },
  {
   "cell_type": "code",
   "execution_count": 41,
   "metadata": {},
   "outputs": [
    {
     "name": "stdout",
     "output_type": "stream",
     "text": [
      "113\n"
     ]
    }
   ],
   "source": [
    "# Verificando quais países está presente nos dois datasets:\n",
    "country_happ = list(happiness_df.country)\n",
    "country_homi = list(homicide_df.country)\n",
    "\n",
    "equal_countries = []\n",
    "\n",
    "for c_01 in country_homi:\n",
    "    for c_02 in country_happ:\n",
    "        if c_01 == c_02:\n",
    "            equal_countries.append(c_01)\n",
    "print(len(equal_countries))"
   ]
  },
  {
   "cell_type": "markdown",
   "metadata": {},
   "source": [
    "- Apenas 113 países, dos 134 no dataset de felicidade, estão também presentes no dataset de homícidios. Portanto, o join será feito apenas com estes 113 países."
   ]
  },
  {
   "cell_type": "code",
   "execution_count": 42,
   "metadata": {},
   "outputs": [
    {
     "data": {
      "text/html": [
       "<div>\n",
       "<style scoped>\n",
       "    .dataframe tbody tr th:only-of-type {\n",
       "        vertical-align: middle;\n",
       "    }\n",
       "\n",
       "    .dataframe tbody tr th {\n",
       "        vertical-align: top;\n",
       "    }\n",
       "\n",
       "    .dataframe thead th {\n",
       "        text-align: right;\n",
       "    }\n",
       "</style>\n",
       "<table border=\"1\" class=\"dataframe\">\n",
       "  <thead>\n",
       "    <tr style=\"text-align: right;\">\n",
       "      <th></th>\n",
       "      <th>happiness</th>\n",
       "      <th>ranking</th>\n",
       "      <th>date_of_data_happiness</th>\n",
       "      <th>rate</th>\n",
       "      <th>count</th>\n",
       "      <th>date_of_data_homicide</th>\n",
       "    </tr>\n",
       "    <tr>\n",
       "      <th>country</th>\n",
       "      <th></th>\n",
       "      <th></th>\n",
       "      <th></th>\n",
       "      <th></th>\n",
       "      <th></th>\n",
       "      <th></th>\n",
       "    </tr>\n",
       "  </thead>\n",
       "  <tbody>\n",
       "    <tr>\n",
       "      <th>Finland</th>\n",
       "      <td>7.80</td>\n",
       "      <td>1</td>\n",
       "      <td>2013 - 2022</td>\n",
       "      <td>1.6</td>\n",
       "      <td>91.0</td>\n",
       "      <td>2020.0</td>\n",
       "    </tr>\n",
       "    <tr>\n",
       "      <th>Denmark</th>\n",
       "      <td>7.59</td>\n",
       "      <td>2</td>\n",
       "      <td>2013 - 2022</td>\n",
       "      <td>1.0</td>\n",
       "      <td>55.0</td>\n",
       "      <td>2020.0</td>\n",
       "    </tr>\n",
       "    <tr>\n",
       "      <th>Iceland</th>\n",
       "      <td>7.53</td>\n",
       "      <td>3</td>\n",
       "      <td>2013 - 2022</td>\n",
       "      <td>1.5</td>\n",
       "      <td>5.0</td>\n",
       "      <td>2020.0</td>\n",
       "    </tr>\n",
       "    <tr>\n",
       "      <th>Israel</th>\n",
       "      <td>7.47</td>\n",
       "      <td>4</td>\n",
       "      <td>2013 - 2022</td>\n",
       "      <td>1.5</td>\n",
       "      <td>125.0</td>\n",
       "      <td>2019.0</td>\n",
       "    </tr>\n",
       "    <tr>\n",
       "      <th>Netherlands</th>\n",
       "      <td>7.40</td>\n",
       "      <td>5</td>\n",
       "      <td>2013 - 2022</td>\n",
       "      <td>0.6</td>\n",
       "      <td>107.0</td>\n",
       "      <td>2020.0</td>\n",
       "    </tr>\n",
       "    <tr>\n",
       "      <th>...</th>\n",
       "      <td>...</td>\n",
       "      <td>...</td>\n",
       "      <td>...</td>\n",
       "      <td>...</td>\n",
       "      <td>...</td>\n",
       "      <td>...</td>\n",
       "    </tr>\n",
       "    <tr>\n",
       "      <th>DR Congo</th>\n",
       "      <td>3.21</td>\n",
       "      <td>130</td>\n",
       "      <td>2017 - 2022</td>\n",
       "      <td>NaN</td>\n",
       "      <td>NaN</td>\n",
       "      <td>NaN</td>\n",
       "    </tr>\n",
       "    <tr>\n",
       "      <th>Zimbabwe</th>\n",
       "      <td>3.20</td>\n",
       "      <td>131</td>\n",
       "      <td>2013 - 2022</td>\n",
       "      <td>7.5</td>\n",
       "      <td>981.0</td>\n",
       "      <td>2012.0</td>\n",
       "    </tr>\n",
       "    <tr>\n",
       "      <th>Sierra Leone</th>\n",
       "      <td>3.14</td>\n",
       "      <td>132</td>\n",
       "      <td>2013 - 2022</td>\n",
       "      <td>1.7</td>\n",
       "      <td>124.0</td>\n",
       "      <td>2015.0</td>\n",
       "    </tr>\n",
       "    <tr>\n",
       "      <th>Lebanon</th>\n",
       "      <td>2.39</td>\n",
       "      <td>133</td>\n",
       "      <td>2013 - 2022</td>\n",
       "      <td>1.9</td>\n",
       "      <td>128.0</td>\n",
       "      <td>2020.0</td>\n",
       "    </tr>\n",
       "    <tr>\n",
       "      <th>Afghanistan</th>\n",
       "      <td>1.86</td>\n",
       "      <td>134</td>\n",
       "      <td>2013 - 2022</td>\n",
       "      <td>6.7</td>\n",
       "      <td>2474.0</td>\n",
       "      <td>2018.0</td>\n",
       "    </tr>\n",
       "  </tbody>\n",
       "</table>\n",
       "<p>134 rows × 6 columns</p>\n",
       "</div>"
      ],
      "text/plain": [
       "              happiness  ranking date_of_data_happiness  rate   count  \\\n",
       "country                                                                 \n",
       "Finland            7.80        1            2013 - 2022   1.6    91.0   \n",
       "Denmark            7.59        2            2013 - 2022   1.0    55.0   \n",
       "Iceland            7.53        3            2013 - 2022   1.5     5.0   \n",
       "Israel             7.47        4            2013 - 2022   1.5   125.0   \n",
       "Netherlands        7.40        5            2013 - 2022   0.6   107.0   \n",
       "...                 ...      ...                    ...   ...     ...   \n",
       "DR Congo           3.21      130            2017 - 2022   NaN     NaN   \n",
       "Zimbabwe           3.20      131            2013 - 2022   7.5   981.0   \n",
       "Sierra Leone       3.14      132            2013 - 2022   1.7   124.0   \n",
       "Lebanon            2.39      133            2013 - 2022   1.9   128.0   \n",
       "Afghanistan        1.86      134            2013 - 2022   6.7  2474.0   \n",
       "\n",
       "              date_of_data_homicide  \n",
       "country                              \n",
       "Finland                      2020.0  \n",
       "Denmark                      2020.0  \n",
       "Iceland                      2020.0  \n",
       "Israel                       2019.0  \n",
       "Netherlands                  2020.0  \n",
       "...                             ...  \n",
       "DR Congo                        NaN  \n",
       "Zimbabwe                     2012.0  \n",
       "Sierra Leone                 2015.0  \n",
       "Lebanon                      2020.0  \n",
       "Afghanistan                  2018.0  \n",
       "\n",
       "[134 rows x 6 columns]"
      ]
     },
     "metadata": {},
     "output_type": "display_data"
    }
   ],
   "source": [
    "# Utilizando Join para realizar o cruzamento entre os datasets de felicidade e homicídios, sendo o menor (de felicidade) a base:\n",
    "joined_df = happiness_df.set_index(\"country\").join(homicide_df.set_index(\"country\"), how=\"left\", lsuffix='_happiness', rsuffix='_homicide')\n",
    "display(joined_df)"
   ]
  },
  {
   "cell_type": "markdown",
   "metadata": {},
   "source": [
    "- Como verificado anteriormente, apenas 113 paíes do dataset de felicidade também estão no dataset de homicídios. Desta forma, as linhas dos países que não estão em homicídios, ficaram com os valores NaN (Not a Number)."
   ]
  },
  {
   "cell_type": "code",
   "execution_count": 43,
   "metadata": {},
   "outputs": [
    {
     "data": {
      "text/html": [
       "<div>\n",
       "<style scoped>\n",
       "    .dataframe tbody tr th:only-of-type {\n",
       "        vertical-align: middle;\n",
       "    }\n",
       "\n",
       "    .dataframe tbody tr th {\n",
       "        vertical-align: top;\n",
       "    }\n",
       "\n",
       "    .dataframe thead th {\n",
       "        text-align: right;\n",
       "    }\n",
       "</style>\n",
       "<table border=\"1\" class=\"dataframe\">\n",
       "  <thead>\n",
       "    <tr style=\"text-align: right;\">\n",
       "      <th></th>\n",
       "      <th>happiness</th>\n",
       "      <th>ranking</th>\n",
       "      <th>date_of_data_happiness</th>\n",
       "      <th>rate</th>\n",
       "      <th>count</th>\n",
       "      <th>date_of_data_homicide</th>\n",
       "    </tr>\n",
       "    <tr>\n",
       "      <th>country</th>\n",
       "      <th></th>\n",
       "      <th></th>\n",
       "      <th></th>\n",
       "      <th></th>\n",
       "      <th></th>\n",
       "      <th></th>\n",
       "    </tr>\n",
       "  </thead>\n",
       "  <tbody>\n",
       "    <tr>\n",
       "      <th>Finland</th>\n",
       "      <td>7.80</td>\n",
       "      <td>1</td>\n",
       "      <td>2013 - 2022</td>\n",
       "      <td>1.6</td>\n",
       "      <td>91.0</td>\n",
       "      <td>2020.0</td>\n",
       "    </tr>\n",
       "    <tr>\n",
       "      <th>Denmark</th>\n",
       "      <td>7.59</td>\n",
       "      <td>2</td>\n",
       "      <td>2013 - 2022</td>\n",
       "      <td>1.0</td>\n",
       "      <td>55.0</td>\n",
       "      <td>2020.0</td>\n",
       "    </tr>\n",
       "    <tr>\n",
       "      <th>Iceland</th>\n",
       "      <td>7.53</td>\n",
       "      <td>3</td>\n",
       "      <td>2013 - 2022</td>\n",
       "      <td>1.5</td>\n",
       "      <td>5.0</td>\n",
       "      <td>2020.0</td>\n",
       "    </tr>\n",
       "    <tr>\n",
       "      <th>Israel</th>\n",
       "      <td>7.47</td>\n",
       "      <td>4</td>\n",
       "      <td>2013 - 2022</td>\n",
       "      <td>1.5</td>\n",
       "      <td>125.0</td>\n",
       "      <td>2019.0</td>\n",
       "    </tr>\n",
       "    <tr>\n",
       "      <th>Netherlands</th>\n",
       "      <td>7.40</td>\n",
       "      <td>5</td>\n",
       "      <td>2013 - 2022</td>\n",
       "      <td>0.6</td>\n",
       "      <td>107.0</td>\n",
       "      <td>2020.0</td>\n",
       "    </tr>\n",
       "    <tr>\n",
       "      <th>...</th>\n",
       "      <td>...</td>\n",
       "      <td>...</td>\n",
       "      <td>...</td>\n",
       "      <td>...</td>\n",
       "      <td>...</td>\n",
       "      <td>...</td>\n",
       "    </tr>\n",
       "    <tr>\n",
       "      <th>Botswana</th>\n",
       "      <td>3.44</td>\n",
       "      <td>129</td>\n",
       "      <td>2013 - 2022</td>\n",
       "      <td>15.2</td>\n",
       "      <td>303.0</td>\n",
       "      <td>2010.0</td>\n",
       "    </tr>\n",
       "    <tr>\n",
       "      <th>Zimbabwe</th>\n",
       "      <td>3.20</td>\n",
       "      <td>131</td>\n",
       "      <td>2013 - 2022</td>\n",
       "      <td>7.5</td>\n",
       "      <td>981.0</td>\n",
       "      <td>2012.0</td>\n",
       "    </tr>\n",
       "    <tr>\n",
       "      <th>Sierra Leone</th>\n",
       "      <td>3.14</td>\n",
       "      <td>132</td>\n",
       "      <td>2013 - 2022</td>\n",
       "      <td>1.7</td>\n",
       "      <td>124.0</td>\n",
       "      <td>2015.0</td>\n",
       "    </tr>\n",
       "    <tr>\n",
       "      <th>Lebanon</th>\n",
       "      <td>2.39</td>\n",
       "      <td>133</td>\n",
       "      <td>2013 - 2022</td>\n",
       "      <td>1.9</td>\n",
       "      <td>128.0</td>\n",
       "      <td>2020.0</td>\n",
       "    </tr>\n",
       "    <tr>\n",
       "      <th>Afghanistan</th>\n",
       "      <td>1.86</td>\n",
       "      <td>134</td>\n",
       "      <td>2013 - 2022</td>\n",
       "      <td>6.7</td>\n",
       "      <td>2474.0</td>\n",
       "      <td>2018.0</td>\n",
       "    </tr>\n",
       "  </tbody>\n",
       "</table>\n",
       "<p>113 rows × 6 columns</p>\n",
       "</div>"
      ],
      "text/plain": [
       "              happiness  ranking date_of_data_happiness  rate   count  \\\n",
       "country                                                                 \n",
       "Finland            7.80        1            2013 - 2022   1.6    91.0   \n",
       "Denmark            7.59        2            2013 - 2022   1.0    55.0   \n",
       "Iceland            7.53        3            2013 - 2022   1.5     5.0   \n",
       "Israel             7.47        4            2013 - 2022   1.5   125.0   \n",
       "Netherlands        7.40        5            2013 - 2022   0.6   107.0   \n",
       "...                 ...      ...                    ...   ...     ...   \n",
       "Botswana           3.44      129            2013 - 2022  15.2   303.0   \n",
       "Zimbabwe           3.20      131            2013 - 2022   7.5   981.0   \n",
       "Sierra Leone       3.14      132            2013 - 2022   1.7   124.0   \n",
       "Lebanon            2.39      133            2013 - 2022   1.9   128.0   \n",
       "Afghanistan        1.86      134            2013 - 2022   6.7  2474.0   \n",
       "\n",
       "              date_of_data_homicide  \n",
       "country                              \n",
       "Finland                      2020.0  \n",
       "Denmark                      2020.0  \n",
       "Iceland                      2020.0  \n",
       "Israel                       2019.0  \n",
       "Netherlands                  2020.0  \n",
       "...                             ...  \n",
       "Botswana                     2010.0  \n",
       "Zimbabwe                     2012.0  \n",
       "Sierra Leone                 2015.0  \n",
       "Lebanon                      2020.0  \n",
       "Afghanistan                  2018.0  \n",
       "\n",
       "[113 rows x 6 columns]"
      ]
     },
     "metadata": {},
     "output_type": "display_data"
    }
   ],
   "source": [
    "# Removendo países que ficaram com dados faltantes:\n",
    "joined_df = joined_df.dropna()\n",
    "display(joined_df)"
   ]
  },
  {
   "cell_type": "code",
   "execution_count": null,
   "metadata": {},
   "outputs": [],
   "source": []
  }
 ],
 "metadata": {
  "kernelspec": {
   "display_name": "venv",
   "language": "python",
   "name": "python3"
  },
  "language_info": {
   "codemirror_mode": {
    "name": "ipython",
    "version": 3
   },
   "file_extension": ".py",
   "mimetype": "text/x-python",
   "name": "python",
   "nbconvert_exporter": "python",
   "pygments_lexer": "ipython3",
   "version": "3.11.3"
  },
  "orig_nbformat": 4
 },
 "nbformat": 4,
 "nbformat_minor": 2
}
